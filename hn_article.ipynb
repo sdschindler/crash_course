{
 "cells": [
  {
   "cell_type": "code",
   "execution_count": 5,
   "id": "b0e68005",
   "metadata": {},
   "outputs": [
    {
     "name": "stdout",
     "output_type": "stream",
     "text": [
      "Status code: 200\n"
     ]
    }
   ],
   "source": [
    "import requests\n",
    "import json\n",
    "\n",
    "from operator import itemgetter\n",
    "\n",
    "url = 'https://hacker-news.firebaseio.com/v0/item/19155826.json'\n",
    "r = requests.get(url)\n",
    "\n",
    "print(f\"Status code: {r.status_code}\")\n",
    "\n",
    "response_dict = r.json()\n",
    "readable_file = 'readable_hn_data.json'\n",
    "with open(readable_file,'w')as f:\n",
    "    json.dump(response_dict,f,indent=4)"
   ]
  },
  {
   "cell_type": "code",
   "execution_count": 18,
   "id": "bbc46270",
   "metadata": {},
   "outputs": [
    {
     "name": "stdout",
     "output_type": "stream",
     "text": [
      "Status code: 200\n"
     ]
    }
   ],
   "source": [
    "url = 'https://hacker-news.firebaseio.com/v0/topstories.json'\n",
    "r = requests.get(url)\n",
    "print(f\"Status code: {r.status_code}\")\n",
    "\n",
    "\n",
    "submission_ids=r.json()\n",
    "submission_dicts = []\n",
    "for submission_id in submission_ids[:10]:\n",
    "    url = f\"https://hacker-news.firebaseio.com/v0/item/{submission_id}.json\"\n",
    "    r = requests.get(url)\n",
    "   # print(f\"id: {submission_id}\\tStatus code: {r.status_code}\")\n",
    "    response_dict = r.json()\n",
    "    \n",
    "    submission_dict = {\n",
    "        'title':response_dict['title'],\n",
    "        'hn_link':f\"http://news.ycombinator.com/item?id={submission_id}\",\n",
    "            'comments':response_dict['descendants'],\n",
    "    }\n",
    "    submission_dicts.append(submission_dict)\n"
   ]
  },
  {
   "cell_type": "code",
   "execution_count": 19,
   "id": "cd972703",
   "metadata": {},
   "outputs": [
    {
     "name": "stdout",
     "output_type": "stream",
     "text": [
      "\n",
      "Title:Self-Host All the Things?\n",
      "Discussion link:http://news.ycombinator.com/item?id=35031109\n",
      "Comments:38\n",
      "\n",
      "Title:After Dark Screensavers in CSS\n",
      "Discussion link:http://news.ycombinator.com/item?id=35031545\n",
      "Comments:28\n",
      "\n",
      "Title:Why does the all 0 public key have a known private key in SR25519 and ED25519?\n",
      "Discussion link:http://news.ycombinator.com/item?id=35031405\n",
      "Comments:25\n",
      "\n",
      "Title:Achieving High-Performance the Functional Way (2020)\n",
      "Discussion link:http://news.ycombinator.com/item?id=35030796\n",
      "Comments:11\n",
      "\n",
      "Title:The Counterintuitive Physics of Turning a Bike [video]\n",
      "Discussion link:http://news.ycombinator.com/item?id=35009718\n",
      "Comments:10\n",
      "\n",
      "Title:Legacy Software Systems: How to Live with Aging Software Architecture?\n",
      "Discussion link:http://news.ycombinator.com/item?id=35032437\n",
      "Comments:7\n",
      "\n",
      "Title:Show HN: TuringJest – Pretend to be an AI and spot the real one\n",
      "Discussion link:http://news.ycombinator.com/item?id=35032634\n",
      "Comments:2\n",
      "\n",
      "Title:A Criticism of JavaScript Cryptography\n",
      "Discussion link:http://news.ycombinator.com/item?id=35032638\n",
      "Comments:1\n",
      "\n",
      "Title:Safety and Soundness in Rust\n",
      "Discussion link:http://news.ycombinator.com/item?id=35032915\n",
      "Comments:0\n",
      "\n",
      "Title:Lifting Discrete Logarithm Based Cryptography to Post-Quantum Cryptography\n",
      "Discussion link:http://news.ycombinator.com/item?id=35032922\n",
      "Comments:0\n"
     ]
    }
   ],
   "source": [
    "submission_dicts= sorted(submission_dicts,key=itemgetter('comments'),reverse=True)\n",
    "for submission_dict in submission_dicts:\n",
    "    print(f\"\\nTitle:{submission_dict['title']}\")\n",
    "    print(f\"Discussion link:{submission_dict['hn_link']}\")\n",
    "    print(f\"Comments:{submission_dict['comments']}\")"
   ]
  },
  {
   "cell_type": "code",
   "execution_count": null,
   "id": "b32760d3",
   "metadata": {},
   "outputs": [],
   "source": []
  }
 ],
 "metadata": {
  "kernelspec": {
   "display_name": "Python 3 (ipykernel)",
   "language": "python",
   "name": "python3"
  },
  "language_info": {
   "codemirror_mode": {
    "name": "ipython",
    "version": 3
   },
   "file_extension": ".py",
   "mimetype": "text/x-python",
   "name": "python",
   "nbconvert_exporter": "python",
   "pygments_lexer": "ipython3",
   "version": "3.9.13"
  }
 },
 "nbformat": 4,
 "nbformat_minor": 5
}

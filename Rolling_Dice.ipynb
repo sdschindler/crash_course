{
 "cells": [
  {
   "cell_type": "code",
   "execution_count": 15,
   "id": "afc18cac",
   "metadata": {},
   "outputs": [
    {
     "name": "stdout",
     "output_type": "stream",
     "text": [
      "[1574, 3268, 4701, 6216, 7839, 9416, 10708, 12483, 11060, 9395, 7809, 6302, 4556, 3114, 1559]\n"
     ]
    }
   ],
   "source": [
    "from random import randint\n",
    "from plotly.graph_objs import Bar, Layout\n",
    "from plotly import offline\n",
    "\n",
    "class Die:\n",
    "    def __init__(self,num_sides = 6):\n",
    "        self.num_sides = num_sides\n",
    "    def roll(self):\n",
    "        return randint(1,self.num_sides)\n",
    "die_1 = Die(8)\n",
    "die_2 = Die(8)\n",
    "results = []\n",
    "for roll_num in range(100000):\n",
    "    result = die_1.roll()+die_2.roll()\n",
    "    results.append(result)\n",
    "\n",
    "frequencies = []\n",
    "max_result = die_1.num_sides+die_2.num_sides\n",
    "for value in range(2,max_result+1):\n",
    "    frequency = results.count(value)\n",
    "    frequencies.append(frequency)\n",
    "print(frequencies)\n"
   ]
  },
  {
   "cell_type": "code",
   "execution_count": 16,
   "id": "107d15ce",
   "metadata": {},
   "outputs": [
    {
     "data": {
      "text/plain": [
       "'d6.html'"
      ]
     },
     "execution_count": 16,
     "metadata": {},
     "output_type": "execute_result"
    }
   ],
   "source": [
    "x_values = list(range(2, max_result+1))\n",
    "data = [Bar(x=x_values, y = frequencies)]\n",
    "\n",
    "x_axis_config = {'title': 'Result'}\n",
    "y_axis_config = {'title': 'Frequency of Result'}\n",
    "\n",
    "my_layout = Layout(title= 'Results of rolling two D8 1000 times', xaxis=x_axis_config,yaxis=y_axis_config)\n",
    "offline.plot({'data':data,'layout':my_layout},filename='d6.html')"
   ]
  },
  {
   "cell_type": "code",
   "execution_count": null,
   "id": "3f1b19fa",
   "metadata": {},
   "outputs": [],
   "source": []
  },
  {
   "cell_type": "code",
   "execution_count": null,
   "id": "62bc1c0a",
   "metadata": {},
   "outputs": [],
   "source": []
  }
 ],
 "metadata": {
  "kernelspec": {
   "display_name": "Python 3 (ipykernel)",
   "language": "python",
   "name": "python3"
  },
  "language_info": {
   "codemirror_mode": {
    "name": "ipython",
    "version": 3
   },
   "file_extension": ".py",
   "mimetype": "text/x-python",
   "name": "python",
   "nbconvert_exporter": "python",
   "pygments_lexer": "ipython3",
   "version": "3.9.13"
  }
 },
 "nbformat": 4,
 "nbformat_minor": 5
}

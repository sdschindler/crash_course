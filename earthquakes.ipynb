{
 "cells": [
  {
   "cell_type": "code",
   "execution_count": 1,
   "id": "461e2240",
   "metadata": {},
   "outputs": [
    {
     "name": "stdout",
     "output_type": "stream",
     "text": [
      "158\n"
     ]
    }
   ],
   "source": [
    "import json\n",
    "\n",
    "from plotly.graph_objs import Scattergeo,Layout\n",
    "from plotly import offline\n",
    "\n",
    "filename = 'eq_data_1_day_m1.json'\n",
    "\n",
    "with open(filename) as f:\n",
    "    all_eq_data = json.load(f)\n",
    "readable_file = 'readable_eq_data.json'\n",
    "with open(readable_file,'w') as f:\n",
    "    json.dump(all_eq_data,f,indent=4)\n",
    "    \n",
    "all_eq_dicts = all_eq_data['features']\n",
    "print(len(all_eq_dicts))"
   ]
  },
  {
   "cell_type": "code",
   "execution_count": 2,
   "id": "82295c3d",
   "metadata": {},
   "outputs": [
    {
     "name": "stdout",
     "output_type": "stream",
     "text": [
      "[0.96, 1.2, 4.3, 3.6, 2.1, 4, 1.06, 2.3, 4.9, 1.8]\n",
      "[-116.7941667, -148.9865, -74.2343, -161.6801, -118.5316667, -144.1283, -116.7433333, -153.7845, 59.3991, -116.2045]\n",
      "[33.4863333, 64.6673, -12.1025, 54.2232, 35.3098333, 69.5346, 33.5148333, 59.6106, -30.7399, 37.0572]\n"
     ]
    }
   ],
   "source": [
    "mags,lons,lats = [],[],[]\n",
    "for eq_dict in all_eq_dicts:\n",
    "    mag = eq_dict['properties']['mag']\n",
    "    lon = eq_dict['geometry']['coordinates'][0]\n",
    "    lat = eq_dict['geometry']['coordinates'][1]\n",
    "    mags.append(mag)\n",
    "    lons.append(lon)\n",
    "    lats.append(lat)\n",
    "print(mags[:10])\n",
    "print(lons[:10])\n",
    "print(lats[:10])"
   ]
  },
  {
   "cell_type": "code",
   "execution_count": 3,
   "id": "445c0d2c",
   "metadata": {},
   "outputs": [
    {
     "data": {
      "text/plain": [
       "'global_earthquakes.html'"
      ]
     },
     "execution_count": 3,
     "metadata": {},
     "output_type": "execute_result"
    }
   ],
   "source": [
    "#map the earthquakes\n",
    "data = [{\n",
    "    'type':'scattergeo',\n",
    "    'lon':lons,\n",
    "    'lat':lats,\n",
    "    'marker':{\n",
    "        'size':[5*mag for mag in mags],\n",
    "        'color':mags,\n",
    "        'colorscale':'Viridis',\n",
    "        'reversescale':True,\n",
    "        'colorbar':{'title':'Magnitude'}\n",
    "    },\n",
    "}]\n",
    "my_layout = Layout(title='Global Eearthquakes')\n",
    "\n",
    "fig = {'data':data, 'layout':my_layout}\n",
    "offline.plot(fig,filename='global_earthquakes.html')"
   ]
  },
  {
   "cell_type": "code",
   "execution_count": null,
   "id": "0afdcdcb",
   "metadata": {},
   "outputs": [],
   "source": []
  }
 ],
 "metadata": {
  "kernelspec": {
   "display_name": "Python 3 (ipykernel)",
   "language": "python",
   "name": "python3"
  },
  "language_info": {
   "codemirror_mode": {
    "name": "ipython",
    "version": 3
   },
   "file_extension": ".py",
   "mimetype": "text/x-python",
   "name": "python",
   "nbconvert_exporter": "python",
   "pygments_lexer": "ipython3",
   "version": "3.9.13"
  }
 },
 "nbformat": 4,
 "nbformat_minor": 5
}
